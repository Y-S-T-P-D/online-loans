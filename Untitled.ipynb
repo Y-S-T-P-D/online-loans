{
 "cells": [
  {
   "cell_type": "code",
   "execution_count": 2,
   "id": "315bb603-75eb-47bc-a2e0-263a5096ba41",
   "metadata": {},
   "outputs": [],
   "source": [
    "import pandas as pd"
   ]
  },
  {
   "cell_type": "code",
   "execution_count": 3,
   "id": "61bf36bc-70b7-430a-9d34-9500fa3271af",
   "metadata": {},
   "outputs": [],
   "source": [
    "df=pd.read_excel(\"database1.xlsx\")"
   ]
  },
  {
   "cell_type": "code",
   "execution_count": 4,
   "id": "67730d54-c2db-447b-9a08-fc5f4f7f72dc",
   "metadata": {},
   "outputs": [],
   "source": [
    "df_test=df.copy()"
   ]
  },
  {
   "cell_type": "code",
   "execution_count": 10,
   "id": "01016398-9533-49d4-9289-09796c1f31fd",
   "metadata": {},
   "outputs": [
    {
     "data": {
      "text/plain": [
       "['Ancienneté>= à 5ans pour tous financements de plus de 60 mois avec prélèvement systématique du cash collatéral de 3%',\n",
       " 'Dans la limite du contrat ou du projet sur lequel travaille le salarié',\n",
       " nan,\n",
       " 'Durée = Ancienneté + 2',\n",
       " nan,\n",
       " nan,\n",
       " nan,\n",
       " \"Signature d'une convention de financement\",\n",
       " 'Ancienneté >= à 5 ans pour tout financement de plus de 60 mois avec prélèvement systématique du cash collatéral de 3%',\n",
       " 'Ancienneté>= à 5ans pour tous financements de plus de 60 mois avec prélèvement systématique du cash collatéral de 3%',\n",
       " nan,\n",
       " 'Ancienneté>= à 5ans pour tous financements de plus de 60 mois avec prélèvement systématique du cash collatéral de 3%',\n",
       " 'Ancienneté>= à 5ans pour tous financements de plus de 60 mois avec prélèvement systématique du cash collatéral de 3%',\n",
       " \"Prélèvement systématique d'un cash collatéral de 3% sur tout concours allant au delà de 60 mois\",\n",
       " 'Pour la BEAC uniquement la durée maximale des financements passe de 60 mois à 84 mois soit 7 ans. Les autres paramètres de financement restent inchangés.',\n",
       " 'Ancienneté>= à 5ans pour tous financements de plus de 60 mois avec prélèvement systématique du cash collatéral de 3%',\n",
       " '-  Financement limité à 24 mois pour les pompistes \\n- Financement supérieur à 24 mois réservé aux cadres ayant une ancienneté supérieure à 4 ans                                               convention',\n",
       " 'Ancienneté>= à 5ans pour tous financements de plus de 60 mois avec prélèvement systématique du cash collatéral de 3%']"
      ]
     },
     "execution_count": 10,
     "metadata": {},
     "output_type": "execute_result"
    }
   ],
   "source": [
    "df_test[\"OBSERVATIONS\"].tolist()"
   ]
  },
  {
   "cell_type": "code",
   "execution_count": 6,
   "id": "22e06927-8f8b-438b-9ccc-36914c63df46",
   "metadata": {},
   "outputs": [],
   "source": [
    "df_test[\"DUREE MAX\"]=df_test[\"DUREE MAX\"].apply(lambda x: x.replace(\"SUSPENDU\",\"\"))"
   ]
  },
  {
   "cell_type": "code",
   "execution_count": 7,
   "id": "483a0496-9850-4f28-8100-7793d401c49a",
   "metadata": {},
   "outputs": [],
   "source": [
    "df=df_test.copy()"
   ]
  },
  {
   "cell_type": "code",
   "execution_count": 8,
   "id": "d0087b6e-df28-4005-8028-3b984fbca969",
   "metadata": {},
   "outputs": [],
   "source": [
    "df.to_excel('database2.xlsx', index=False)  "
   ]
  },
  {
   "cell_type": "code",
   "execution_count": null,
   "id": "8a1e1173-1089-41ee-b002-8a4b0b93c100",
   "metadata": {},
   "outputs": [],
   "source": [
    "\n"
   ]
  }
 ],
 "metadata": {
  "kernelspec": {
   "display_name": "Python 3 (ipykernel)",
   "language": "python",
   "name": "python3"
  },
  "language_info": {
   "codemirror_mode": {
    "name": "ipython",
    "version": 3
   },
   "file_extension": ".py",
   "mimetype": "text/x-python",
   "name": "python",
   "nbconvert_exporter": "python",
   "pygments_lexer": "ipython3",
   "version": "3.12.3"
  }
 },
 "nbformat": 4,
 "nbformat_minor": 5
}
