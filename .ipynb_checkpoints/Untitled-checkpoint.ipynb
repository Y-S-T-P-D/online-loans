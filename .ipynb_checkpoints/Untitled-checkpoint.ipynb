{
 "cells": [
  {
   "cell_type": "code",
   "execution_count": 1,
   "id": "315bb603-75eb-47bc-a2e0-263a5096ba41",
   "metadata": {},
   "outputs": [],
   "source": [
    "import pandas as pd"
   ]
  },
  {
   "cell_type": "code",
   "execution_count": 2,
   "id": "61bf36bc-70b7-430a-9d34-9500fa3271af",
   "metadata": {},
   "outputs": [],
   "source": [
    "df=pd.read_excel(\"database1.xlsx\")"
   ]
  },
  {
   "cell_type": "code",
   "execution_count": 6,
   "id": "67730d54-c2db-447b-9a08-fc5f4f7f72dc",
   "metadata": {},
   "outputs": [],
   "source": [
    "df_test=df.copy()"
   ]
  },
  {
   "cell_type": "code",
   "execution_count": 7,
   "id": "01016398-9533-49d4-9289-09796c1f31fd",
   "metadata": {},
   "outputs": [
    {
     "data": {
      "text/html": [
       "<div>\n",
       "<style scoped>\n",
       "    .dataframe tbody tr th:only-of-type {\n",
       "        vertical-align: middle;\n",
       "    }\n",
       "\n",
       "    .dataframe tbody tr th {\n",
       "        vertical-align: top;\n",
       "    }\n",
       "\n",
       "    .dataframe thead th {\n",
       "        text-align: right;\n",
       "    }\n",
       "</style>\n",
       "<table border=\"1\" class=\"dataframe\">\n",
       "  <thead>\n",
       "    <tr style=\"text-align: right;\">\n",
       "      <th></th>\n",
       "      <th>N°</th>\n",
       "      <th>NOMS DES ENTREPRISES</th>\n",
       "      <th>DUREE MAX</th>\n",
       "      <th>Taux Découvert</th>\n",
       "      <th>Taux Cresco</th>\n",
       "      <th>Taux Amort.</th>\n",
       "      <th>Rating</th>\n",
       "      <th>OBSERVATIONS</th>\n",
       "    </tr>\n",
       "  </thead>\n",
       "  <tbody>\n",
       "    <tr>\n",
       "      <th>0</th>\n",
       "      <td>1</td>\n",
       "      <td>Access Bank</td>\n",
       "      <td>84 mois</td>\n",
       "      <td>0.145</td>\n",
       "      <td>0.1075</td>\n",
       "      <td>0.080</td>\n",
       "      <td>A</td>\n",
       "      <td>Ancienneté&gt;= à 5ans pour tous financements de ...</td>\n",
       "    </tr>\n",
       "    <tr>\n",
       "      <th>1</th>\n",
       "      <td>2</td>\n",
       "      <td>ACMS</td>\n",
       "      <td>60 Mois</td>\n",
       "      <td>0.145</td>\n",
       "      <td>0.1075</td>\n",
       "      <td>0.080</td>\n",
       "      <td>A</td>\n",
       "      <td>Dans la limite du contrat ou du projet sur leq...</td>\n",
       "    </tr>\n",
       "    <tr>\n",
       "      <th>2</th>\n",
       "      <td>3</td>\n",
       "      <td>ADIALEA</td>\n",
       "      <td>60 mois</td>\n",
       "      <td>0.145</td>\n",
       "      <td>0.1075</td>\n",
       "      <td>0.080</td>\n",
       "      <td>A</td>\n",
       "      <td>NaN</td>\n",
       "    </tr>\n",
       "    <tr>\n",
       "      <th>3</th>\n",
       "      <td>4</td>\n",
       "      <td>ADVANCED MARITIME TRANSPORT (AMT)</td>\n",
       "      <td>60 Mois</td>\n",
       "      <td>0.145</td>\n",
       "      <td>0.1075</td>\n",
       "      <td>0.085</td>\n",
       "      <td>A</td>\n",
       "      <td>Durée = Ancienneté + 2</td>\n",
       "    </tr>\n",
       "    <tr>\n",
       "      <th>4</th>\n",
       "      <td>5</td>\n",
       "      <td>AFRICAN GLOBAL LOGISTICS</td>\n",
       "      <td>60 mois</td>\n",
       "      <td>0.145</td>\n",
       "      <td>0.1075</td>\n",
       "      <td>0.085</td>\n",
       "      <td>A</td>\n",
       "      <td>NaN</td>\n",
       "    </tr>\n",
       "  </tbody>\n",
       "</table>\n",
       "</div>"
      ],
      "text/plain": [
       "   N°               NOMS DES ENTREPRISES DUREE MAX  Taux Découvert  \\\n",
       "0   1                        Access Bank   84 mois           0.145   \n",
       "1   2                               ACMS   60 Mois           0.145   \n",
       "2   3                            ADIALEA   60 mois           0.145   \n",
       "3   4  ADVANCED MARITIME TRANSPORT (AMT)   60 Mois           0.145   \n",
       "4   5           AFRICAN GLOBAL LOGISTICS   60 mois           0.145   \n",
       "\n",
       "   Taux Cresco  Taux Amort. Rating  \\\n",
       "0       0.1075        0.080      A   \n",
       "1       0.1075        0.080      A   \n",
       "2       0.1075        0.080      A   \n",
       "3       0.1075        0.085      A   \n",
       "4       0.1075        0.085      A   \n",
       "\n",
       "                                        OBSERVATIONS  \n",
       "0  Ancienneté>= à 5ans pour tous financements de ...  \n",
       "1  Dans la limite du contrat ou du projet sur leq...  \n",
       "2                                                NaN  \n",
       "3                             Durée = Ancienneté + 2  \n",
       "4                                                NaN  "
      ]
     },
     "execution_count": 7,
     "metadata": {},
     "output_type": "execute_result"
    }
   ],
   "source": [
    "df_test.head()"
   ]
  },
  {
   "cell_type": "code",
   "execution_count": 18,
   "id": "22e06927-8f8b-438b-9ccc-36914c63df46",
   "metadata": {},
   "outputs": [],
   "source": [
    "df_test[\"DUREE MAX\"]=df_test[\"DUREE MAX\"].apply(lambda x: x.replace(\"SUSPENDU\",\"\"))"
   ]
  },
  {
   "cell_type": "code",
   "execution_count": 22,
   "id": "483a0496-9850-4f28-8100-7793d401c49a",
   "metadata": {},
   "outputs": [],
   "source": [
    "df=df_test.copy()"
   ]
  },
  {
   "cell_type": "code",
   "execution_count": null,
   "id": "d0087b6e-df28-4005-8028-3b984fbca969",
   "metadata": {},
   "outputs": [],
   "source": []
  }
 ],
 "metadata": {
  "kernelspec": {
   "display_name": "Python 3 (ipykernel)",
   "language": "python",
   "name": "python3"
  },
  "language_info": {
   "codemirror_mode": {
    "name": "ipython",
    "version": 3
   },
   "file_extension": ".py",
   "mimetype": "text/x-python",
   "name": "python",
   "nbconvert_exporter": "python",
   "pygments_lexer": "ipython3",
   "version": "3.12.3"
  }
 },
 "nbformat": 4,
 "nbformat_minor": 5
}
